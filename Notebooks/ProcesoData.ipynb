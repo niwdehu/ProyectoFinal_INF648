{
  "nbformat": 4,
  "nbformat_minor": 0,
  "metadata": {
    "colab": {
      "name": "ProcesoData",
      "provenance": [],
      "collapsed_sections": []
    },
    "kernelspec": {
      "name": "python3",
      "display_name": "Python 3"
    },
    "language_info": {
      "name": "python"
    }
  },
  "cells": [
    {
      "cell_type": "code",
      "execution_count": 2,
      "metadata": {
        "id": "JuTRztW1CTVE"
      },
      "outputs": [],
      "source": [
        "import pickle\n",
        "import numpy as np\n",
        "import matplotlib.pyplot as plt\n",
        "from plotnine.data import mpg\n",
        "import pandas as pd\n",
        "import seaborn as sns\n",
        "from pandas.api.types import CategoricalDtype\n",
        "from plotnine import *"
      ]
    },
    {
      "cell_type": "code",
      "source": [
        "# Importar Keras y librerías adicionales\n",
        "import keras\n",
        "from keras.models import Sequential\n",
        "from keras.layers import Dense\n",
        "from keras.layers import Dropout\n",
        "from sklearn.preprocessing import LabelEncoder\n",
        "from sklearn.preprocessing import OrdinalEncoder"
      ],
      "metadata": {
        "id": "Hw3WGzE_CfEh"
      },
      "execution_count": 3,
      "outputs": []
    },
    {
      "cell_type": "code",
      "source": [
        "#Carga Data \n",
        "from google.colab import drive\n",
        "drive.mount('/content/drive')\n"
      ],
      "metadata": {
        "colab": {
          "base_uri": "https://localhost:8080/"
        },
        "id": "tDUWXhZ8CiQK",
        "outputId": "258887d5-d300-4af1-f584-18a0d12de1cb"
      },
      "execution_count": 4,
      "outputs": [
        {
          "output_type": "stream",
          "name": "stdout",
          "text": [
            "Mounted at /content/drive\n"
          ]
        }
      ]
    },
    {
      "cell_type": "code",
      "source": [
        "!ls\n",
        "# Cargando data \n",
        "data = pd.read_csv('drive/My Drive/Proyecto Final INF648-0001/ObesityDataSet_raw_and_data_sinthetic.csv')\n",
        "data.head()\n"
      ],
      "metadata": {
        "colab": {
          "base_uri": "https://localhost:8080/",
          "height": 224
        },
        "id": "mbaYleHqCmhh",
        "outputId": "deb54855-5429-460e-be06-d6a7dc8f904d"
      },
      "execution_count": 5,
      "outputs": [
        {
          "output_type": "stream",
          "name": "stdout",
          "text": [
            "drive  sample_data\n"
          ]
        },
        {
          "output_type": "execute_result",
          "data": {
            "text/plain": [
              "   Gender   Age  Height  Weight family_history_with_overweight FAVC  FCVC  \\\n",
              "0  Female  21.0    1.62    64.0                            yes   no   2.0   \n",
              "1  Female  21.0    1.52    56.0                            yes   no   3.0   \n",
              "2    Male  23.0    1.80    77.0                            yes   no   2.0   \n",
              "3    Male  27.0    1.80    87.0                             no   no   3.0   \n",
              "4    Male  22.0    1.78    89.8                             no   no   2.0   \n",
              "\n",
              "   NCP       CAEC SMOKE  CH2O  SCC  FAF  TUE        CALC  \\\n",
              "0  3.0  Sometimes    no   2.0   no  0.0  1.0          no   \n",
              "1  3.0  Sometimes   yes   3.0  yes  3.0  0.0   Sometimes   \n",
              "2  3.0  Sometimes    no   2.0   no  2.0  1.0  Frequently   \n",
              "3  3.0  Sometimes    no   2.0   no  2.0  0.0  Frequently   \n",
              "4  1.0  Sometimes    no   2.0   no  0.0  0.0   Sometimes   \n",
              "\n",
              "                  MTRANS           NObeyesdad  \n",
              "0  Public_Transportation        Normal_Weight  \n",
              "1  Public_Transportation        Normal_Weight  \n",
              "2  Public_Transportation        Normal_Weight  \n",
              "3                Walking   Overweight_Level_I  \n",
              "4  Public_Transportation  Overweight_Level_II  "
            ],
            "text/html": [
              "\n",
              "  <div id=\"df-17f7d78d-bea2-4e17-a836-804d01b8b763\">\n",
              "    <div class=\"colab-df-container\">\n",
              "      <div>\n",
              "<style scoped>\n",
              "    .dataframe tbody tr th:only-of-type {\n",
              "        vertical-align: middle;\n",
              "    }\n",
              "\n",
              "    .dataframe tbody tr th {\n",
              "        vertical-align: top;\n",
              "    }\n",
              "\n",
              "    .dataframe thead th {\n",
              "        text-align: right;\n",
              "    }\n",
              "</style>\n",
              "<table border=\"1\" class=\"dataframe\">\n",
              "  <thead>\n",
              "    <tr style=\"text-align: right;\">\n",
              "      <th></th>\n",
              "      <th>Gender</th>\n",
              "      <th>Age</th>\n",
              "      <th>Height</th>\n",
              "      <th>Weight</th>\n",
              "      <th>family_history_with_overweight</th>\n",
              "      <th>FAVC</th>\n",
              "      <th>FCVC</th>\n",
              "      <th>NCP</th>\n",
              "      <th>CAEC</th>\n",
              "      <th>SMOKE</th>\n",
              "      <th>CH2O</th>\n",
              "      <th>SCC</th>\n",
              "      <th>FAF</th>\n",
              "      <th>TUE</th>\n",
              "      <th>CALC</th>\n",
              "      <th>MTRANS</th>\n",
              "      <th>NObeyesdad</th>\n",
              "    </tr>\n",
              "  </thead>\n",
              "  <tbody>\n",
              "    <tr>\n",
              "      <th>0</th>\n",
              "      <td>Female</td>\n",
              "      <td>21.0</td>\n",
              "      <td>1.62</td>\n",
              "      <td>64.0</td>\n",
              "      <td>yes</td>\n",
              "      <td>no</td>\n",
              "      <td>2.0</td>\n",
              "      <td>3.0</td>\n",
              "      <td>Sometimes</td>\n",
              "      <td>no</td>\n",
              "      <td>2.0</td>\n",
              "      <td>no</td>\n",
              "      <td>0.0</td>\n",
              "      <td>1.0</td>\n",
              "      <td>no</td>\n",
              "      <td>Public_Transportation</td>\n",
              "      <td>Normal_Weight</td>\n",
              "    </tr>\n",
              "    <tr>\n",
              "      <th>1</th>\n",
              "      <td>Female</td>\n",
              "      <td>21.0</td>\n",
              "      <td>1.52</td>\n",
              "      <td>56.0</td>\n",
              "      <td>yes</td>\n",
              "      <td>no</td>\n",
              "      <td>3.0</td>\n",
              "      <td>3.0</td>\n",
              "      <td>Sometimes</td>\n",
              "      <td>yes</td>\n",
              "      <td>3.0</td>\n",
              "      <td>yes</td>\n",
              "      <td>3.0</td>\n",
              "      <td>0.0</td>\n",
              "      <td>Sometimes</td>\n",
              "      <td>Public_Transportation</td>\n",
              "      <td>Normal_Weight</td>\n",
              "    </tr>\n",
              "    <tr>\n",
              "      <th>2</th>\n",
              "      <td>Male</td>\n",
              "      <td>23.0</td>\n",
              "      <td>1.80</td>\n",
              "      <td>77.0</td>\n",
              "      <td>yes</td>\n",
              "      <td>no</td>\n",
              "      <td>2.0</td>\n",
              "      <td>3.0</td>\n",
              "      <td>Sometimes</td>\n",
              "      <td>no</td>\n",
              "      <td>2.0</td>\n",
              "      <td>no</td>\n",
              "      <td>2.0</td>\n",
              "      <td>1.0</td>\n",
              "      <td>Frequently</td>\n",
              "      <td>Public_Transportation</td>\n",
              "      <td>Normal_Weight</td>\n",
              "    </tr>\n",
              "    <tr>\n",
              "      <th>3</th>\n",
              "      <td>Male</td>\n",
              "      <td>27.0</td>\n",
              "      <td>1.80</td>\n",
              "      <td>87.0</td>\n",
              "      <td>no</td>\n",
              "      <td>no</td>\n",
              "      <td>3.0</td>\n",
              "      <td>3.0</td>\n",
              "      <td>Sometimes</td>\n",
              "      <td>no</td>\n",
              "      <td>2.0</td>\n",
              "      <td>no</td>\n",
              "      <td>2.0</td>\n",
              "      <td>0.0</td>\n",
              "      <td>Frequently</td>\n",
              "      <td>Walking</td>\n",
              "      <td>Overweight_Level_I</td>\n",
              "    </tr>\n",
              "    <tr>\n",
              "      <th>4</th>\n",
              "      <td>Male</td>\n",
              "      <td>22.0</td>\n",
              "      <td>1.78</td>\n",
              "      <td>89.8</td>\n",
              "      <td>no</td>\n",
              "      <td>no</td>\n",
              "      <td>2.0</td>\n",
              "      <td>1.0</td>\n",
              "      <td>Sometimes</td>\n",
              "      <td>no</td>\n",
              "      <td>2.0</td>\n",
              "      <td>no</td>\n",
              "      <td>0.0</td>\n",
              "      <td>0.0</td>\n",
              "      <td>Sometimes</td>\n",
              "      <td>Public_Transportation</td>\n",
              "      <td>Overweight_Level_II</td>\n",
              "    </tr>\n",
              "  </tbody>\n",
              "</table>\n",
              "</div>\n",
              "      <button class=\"colab-df-convert\" onclick=\"convertToInteractive('df-17f7d78d-bea2-4e17-a836-804d01b8b763')\"\n",
              "              title=\"Convert this dataframe to an interactive table.\"\n",
              "              style=\"display:none;\">\n",
              "        \n",
              "  <svg xmlns=\"http://www.w3.org/2000/svg\" height=\"24px\"viewBox=\"0 0 24 24\"\n",
              "       width=\"24px\">\n",
              "    <path d=\"M0 0h24v24H0V0z\" fill=\"none\"/>\n",
              "    <path d=\"M18.56 5.44l.94 2.06.94-2.06 2.06-.94-2.06-.94-.94-2.06-.94 2.06-2.06.94zm-11 1L8.5 8.5l.94-2.06 2.06-.94-2.06-.94L8.5 2.5l-.94 2.06-2.06.94zm10 10l.94 2.06.94-2.06 2.06-.94-2.06-.94-.94-2.06-.94 2.06-2.06.94z\"/><path d=\"M17.41 7.96l-1.37-1.37c-.4-.4-.92-.59-1.43-.59-.52 0-1.04.2-1.43.59L10.3 9.45l-7.72 7.72c-.78.78-.78 2.05 0 2.83L4 21.41c.39.39.9.59 1.41.59.51 0 1.02-.2 1.41-.59l7.78-7.78 2.81-2.81c.8-.78.8-2.07 0-2.86zM5.41 20L4 18.59l7.72-7.72 1.47 1.35L5.41 20z\"/>\n",
              "  </svg>\n",
              "      </button>\n",
              "      \n",
              "  <style>\n",
              "    .colab-df-container {\n",
              "      display:flex;\n",
              "      flex-wrap:wrap;\n",
              "      gap: 12px;\n",
              "    }\n",
              "\n",
              "    .colab-df-convert {\n",
              "      background-color: #E8F0FE;\n",
              "      border: none;\n",
              "      border-radius: 50%;\n",
              "      cursor: pointer;\n",
              "      display: none;\n",
              "      fill: #1967D2;\n",
              "      height: 32px;\n",
              "      padding: 0 0 0 0;\n",
              "      width: 32px;\n",
              "    }\n",
              "\n",
              "    .colab-df-convert:hover {\n",
              "      background-color: #E2EBFA;\n",
              "      box-shadow: 0px 1px 2px rgba(60, 64, 67, 0.3), 0px 1px 3px 1px rgba(60, 64, 67, 0.15);\n",
              "      fill: #174EA6;\n",
              "    }\n",
              "\n",
              "    [theme=dark] .colab-df-convert {\n",
              "      background-color: #3B4455;\n",
              "      fill: #D2E3FC;\n",
              "    }\n",
              "\n",
              "    [theme=dark] .colab-df-convert:hover {\n",
              "      background-color: #434B5C;\n",
              "      box-shadow: 0px 1px 3px 1px rgba(0, 0, 0, 0.15);\n",
              "      filter: drop-shadow(0px 1px 2px rgba(0, 0, 0, 0.3));\n",
              "      fill: #FFFFFF;\n",
              "    }\n",
              "  </style>\n",
              "\n",
              "      <script>\n",
              "        const buttonEl =\n",
              "          document.querySelector('#df-17f7d78d-bea2-4e17-a836-804d01b8b763 button.colab-df-convert');\n",
              "        buttonEl.style.display =\n",
              "          google.colab.kernel.accessAllowed ? 'block' : 'none';\n",
              "\n",
              "        async function convertToInteractive(key) {\n",
              "          const element = document.querySelector('#df-17f7d78d-bea2-4e17-a836-804d01b8b763');\n",
              "          const dataTable =\n",
              "            await google.colab.kernel.invokeFunction('convertToInteractive',\n",
              "                                                     [key], {});\n",
              "          if (!dataTable) return;\n",
              "\n",
              "          const docLinkHtml = 'Like what you see? Visit the ' +\n",
              "            '<a target=\"_blank\" href=https://colab.research.google.com/notebooks/data_table.ipynb>data table notebook</a>'\n",
              "            + ' to learn more about interactive tables.';\n",
              "          element.innerHTML = '';\n",
              "          dataTable['output_type'] = 'display_data';\n",
              "          await google.colab.output.renderOutput(dataTable, element);\n",
              "          const docLink = document.createElement('div');\n",
              "          docLink.innerHTML = docLinkHtml;\n",
              "          element.appendChild(docLink);\n",
              "        }\n",
              "      </script>\n",
              "    </div>\n",
              "  </div>\n",
              "  "
            ]
          },
          "metadata": {},
          "execution_count": 5
        }
      ]
    },
    {
      "cell_type": "code",
      "source": [
        "#Validar data\n",
        "data.isnull().sum()\n",
        "#peso (kg) / [estatura (m)]2\n",
        "data[\"IMC\"]= data[\"Weight\"]/(data[\"Height\"]*data[\"Height\"])\n"
      ],
      "metadata": {
        "id": "yiD3iou7DgpC"
      },
      "execution_count": 6,
      "outputs": []
    },
    {
      "cell_type": "code",
      "source": [
        ""
      ],
      "metadata": {
        "id": "aRH9st8JAuj9"
      },
      "execution_count": null,
      "outputs": []
    },
    {
      "cell_type": "code",
      "source": [
        "data[\"NObeyesdad\"].unique()\n",
        "#order = ['Insufficient_Weight','Normal_Weight','Overweight_Level_I','Overweight_Level_II','Obesity_Type_I','Obesity_Type_II','Obesity_Type_III']\n",
        "order = ['Obesity_Type_III','Obesity_Type_II','Obesity_Type_I','Overweight_Level_II','Overweight_Level_I','Normal_Weight','Insufficient_Weight']\n",
        "sns.catplot(x=\"IMC\", y=\"NObeyesdad\", data=data,order=order, height=5)"
      ],
      "metadata": {
        "colab": {
          "base_uri": "https://localhost:8080/",
          "height": 386
        },
        "id": "U4HzUB0eOFEt",
        "outputId": "62bcd7b4-e068-41a0-9650-643005db5cc6"
      },
      "execution_count": 7,
      "outputs": [
        {
          "output_type": "execute_result",
          "data": {
            "text/plain": [
              "<seaborn.axisgrid.FacetGrid at 0x7f4cdef5fbd0>"
            ]
          },
          "metadata": {},
          "execution_count": 7
        },
        {
          "output_type": "display_data",
          "data": {
            "text/plain": [
              "<Figure size 360x360 with 1 Axes>"
            ],
            "image/png": "[encoded data removed]"
          },
          "metadata": {
            "needs_background": "light"
          }
        }
      ]
    },
    {
      "cell_type": "code",
      "source": [
        "data.nunique()/len(data)"
      ],
      "metadata": {
        "colab": {
          "base_uri": "https://localhost:8080/"
        },
        "id": "Geajd7t1JNzT",
        "outputId": "df239d74-ac74-4bf2-8cc1-93c49751a0ec"
      },
      "execution_count": 8,
      "outputs": [
        {
          "output_type": "execute_result",
          "data": {
            "text/plain": [
              "Gender                            0.000947\n",
              "Age                               0.664140\n",
              "Height                            0.745618\n",
              "Weight                            0.722406\n",
              "family_history_with_overweight    0.000947\n",
              "FAVC                              0.000947\n",
              "FCVC                              0.383704\n",
              "NCP                               0.300805\n",
              "CAEC                              0.001895\n",
              "SMOKE                             0.000947\n",
              "CH2O                              0.600663\n",
              "SCC                               0.000947\n",
              "FAF                               0.563714\n",
              "TUE                               0.534818\n",
              "CALC                              0.001895\n",
              "MTRANS                            0.002369\n",
              "NObeyesdad                        0.003316\n",
              "IMC                               0.932260\n",
              "dtype: float64"
            ]
          },
          "metadata": {},
          "execution_count": 8
        }
      ]
    },
    {
      "cell_type": "code",
      "source": [
        "def preprocess_dataset(dataset, save_metadata=True):\n",
        "  preprocessed_dataset = dataset.copy()\n",
        "\n",
        "  #Determinamos aquellas variables que tengan un porcentaje de registros únicos por cada variable mayor al valor de 0.7\n",
        "  threshold = 0.9\n",
        "\n",
        "  unique_percentages = dataset.nunique() / len(dataset)\n",
        "\n",
        "  criteria = unique_percentages > threshold\n",
        "\n",
        "  columns_to_filter = unique_percentages[criteria].keys()\n",
        "\n",
        "  #Eliminamos las variables seleccionadas en el paso anterior\n",
        "  preprocessed_dataset.drop(columns_to_filter, axis=1, inplace=True)\n",
        "\n",
        "  #Eliminamos los registros duplicados\n",
        "  preprocessed_dataset.drop_duplicates(keep=\"first\", inplace=True)\n",
        "\n",
        "  #Determinamos que variables son del tipo númerico y cuales son categóricas\n",
        "  numeric_columns = list()\n",
        "  categorical_columns = list()\n",
        "  dictionary_of_columns_with_index_to_categorical = dict()\n",
        "  dictionary_of_columns_with_categorical_to_index = dict()\n",
        "\n",
        "  for column in preprocessed_dataset:\n",
        "    #Determinamos si la variable es numérica o no\n",
        "    if pd.api.types.is_numeric_dtype(preprocessed_dataset[column]):\n",
        "      numeric_columns.append(column)\n",
        "    else:\n",
        "      #Modificamos el tipo de dato de la variable mediante \"astype\"\n",
        "      preprocessed_dataset[column] = preprocessed_dataset[column].astype(\"category\")\n",
        "\n",
        "      #Verificamos si el tipo de dato de la variable fue transformado a categórico correctamente\n",
        "      if not pd.api.types.is_categorical_dtype(preprocessed_dataset[column]):\n",
        "        raise Exception(\"La columna {} no se transformó correctamente a categórica\".format(column))\n",
        "\n",
        "      dictionary_of_columns_with_index_to_categorical[column] = dict()\n",
        "      dictionary_of_columns_with_categorical_to_index[column] = dict()\n",
        "      \n",
        "      #Indexamos los valores (categorías), sin tomar en consideración los nulos, de la variable y guardamos esa información en los diccionarios\n",
        "      for index, category in enumerate(preprocessed_dataset[column].cat.categories):\n",
        "        dictionary_of_columns_with_index_to_categorical[column][index] = category\n",
        "        dictionary_of_columns_with_categorical_to_index[column][category] = index\n",
        "      \n",
        "      categorical_columns.append(column)\n",
        "  \n",
        "  #Reemplazamos los nulos con la mediana sólo de aquellas variables numéricas\n",
        "  median_of_numeric_columns = preprocessed_dataset[numeric_columns].median()\n",
        "\n",
        "  preprocessed_dataset[numeric_columns] = preprocessed_dataset[numeric_columns].fillna(median_of_numeric_columns)\n",
        "\n",
        "  #Transformamos a números los valores (categorías) de las variables categóricas sin considerar los nulos\n",
        "  preprocessed_dataset.replace(dictionary_of_columns_with_categorical_to_index, inplace=True)\n",
        "\n",
        "  #Determinamos aquellas variables que tengan un porcentaje de registros nulos por cada variable mayor al valor de 0.7\n",
        "  threshold = 0.9\n",
        "\n",
        "  null_percentages = preprocessed_dataset[categorical_columns].isna().sum() / len(preprocessed_dataset)\n",
        "\n",
        "  criteria = null_percentages > threshold\n",
        "\n",
        "  columns_to_filter = null_percentages[criteria].keys()\n",
        "\n",
        "  #Eliminamos las variables seleccionadas en el paso anterior\n",
        "  preprocessed_dataset.drop(columns_to_filter, axis=1, inplace=True)\n",
        "\n",
        "  #Eliminamos los registros duplicados\n",
        "  preprocessed_dataset.drop_duplicates(keep=\"first\", inplace=True)\n",
        "\n",
        "  #Generamos una nueva lista de variables categóricas sin contener \"Embarked\" y las variables eliminadas por tener un porcentaje alto de registros nulos\n",
        "  categorical_columns_filtered = categorical_columns[:]\n",
        "\n",
        "\n",
        "  for column in columns_to_filter:\n",
        "    categorical_columns_filtered.remove(column)\n",
        "  \n",
        "  if len(categorical_columns_filtered) > 0:\n",
        "    #Reemplazamos los nulos con la mediana para todas las variables excepto \"Embarked\" y las variables eliminadas por tener un porcentaje alto de registros nulos\n",
        "    median_of_categorical_columns = preprocessed_dataset[categorical_columns_filtered].median()\n",
        "\n",
        "    preprocessed_dataset[categorical_columns_filtered] = preprocessed_dataset[categorical_columns_filtered].fillna(median_of_categorical_columns)\n",
        "  \n",
        "  if save_metadata:\n",
        "    #Guardamos información que consideremos imporante. El formato pickle nos permite guardar objetos de python\n",
        "    with open(\"numeric_columns.pkl\", \"wb\") as f:\n",
        "      pickle.dump(numeric_columns, f)\n",
        "    \n",
        "    with open(\"categorical_columns.pkl\", \"wb\") as f:\n",
        "      pickle.dump(categorical_columns, f)\n",
        "    \n",
        "    with open(\"dictionary_of_columns_with_index_to_categorical.pkl\", \"wb\") as f:\n",
        "      pickle.dump(dictionary_of_columns_with_index_to_categorical, f)\n",
        "    \n",
        "    with open(\"dictionary_of_columns_with_categorical_to_index.pkl\", \"wb\") as f:\n",
        "      pickle.dump(dictionary_of_columns_with_categorical_to_index, f)\n",
        "  \n",
        "  return preprocessed_dataset"
      ],
      "metadata": {
        "id": "FnReRzlSE-YA"
      },
      "execution_count": 9,
      "outputs": []
    },
    {
      "cell_type": "code",
      "source": [
        "#Transformamos los datos a valores numéricos\n",
        "preprocess_data = preprocess_dataset(data)\n",
        "#preprocess_data.head()\n",
        "#Guardamos nuestro dataset pre-procesado en formato pickle\n",
        "preprocess_data.to_pickle(\"preprocess_data.pkl\")\n",
        "preprocess_data.head()"
      ],
      "metadata": {
        "colab": {
          "base_uri": "https://localhost:8080/",
          "height": 206
        },
        "id": "tG4FvGq7E_z5",
        "outputId": "cae7e4e0-a103-4a4b-8a89-9539eabed8ec"
      },
      "execution_count": 10,
      "outputs": [
        {
          "output_type": "execute_result",
          "data": {
            "text/plain": [
              "   Gender   Age  Height  Weight  family_history_with_overweight  FAVC  FCVC  \\\n",
              "0       0  21.0    1.62    64.0                               1     0   2.0   \n",
              "1       0  21.0    1.52    56.0                               1     0   3.0   \n",
              "2       1  23.0    1.80    77.0                               1     0   2.0   \n",
              "3       1  27.0    1.80    87.0                               0     0   3.0   \n",
              "4       1  22.0    1.78    89.8                               0     0   2.0   \n",
              "\n",
              "   NCP  CAEC  SMOKE  CH2O  SCC  FAF  TUE  CALC  MTRANS  NObeyesdad  \n",
              "0  3.0     2      0   2.0    0  0.0  1.0     3       3           1  \n",
              "1  3.0     2      1   3.0    1  3.0  0.0     2       3           1  \n",
              "2  3.0     2      0   2.0    0  2.0  1.0     1       3           1  \n",
              "3  3.0     2      0   2.0    0  2.0  0.0     1       4           5  \n",
              "4  1.0     2      0   2.0    0  0.0  0.0     2       3           6  "
            ],
            "text/html": [
              "\n",
              "  <div id=\"df-9adffcb5-f2d7-45bf-83ee-95bf38968e8a\">\n",
              "    <div class=\"colab-df-container\">\n",
              "      <div>\n",
              "<style scoped>\n",
              "    .dataframe tbody tr th:only-of-type {\n",
              "        vertical-align: middle;\n",
              "    }\n",
              "\n",
              "    .dataframe tbody tr th {\n",
              "        vertical-align: top;\n",
              "    }\n",
              "\n",
              "    .dataframe thead th {\n",
              "        text-align: right;\n",
              "    }\n",
              "</style>\n",
              "<table border=\"1\" class=\"dataframe\">\n",
              "  <thead>\n",
              "    <tr style=\"text-align: right;\">\n",
              "      <th></th>\n",
              "      <th>Gender</th>\n",
              "      <th>Age</th>\n",
              "      <th>Height</th>\n",
              "      <th>Weight</th>\n",
              "      <th>family_history_with_overweight</th>\n",
              "      <th>FAVC</th>\n",
              "      <th>FCVC</th>\n",
              "      <th>NCP</th>\n",
              "      <th>CAEC</th>\n",
              "      <th>SMOKE</th>\n",
              "      <th>CH2O</th>\n",
              "      <th>SCC</th>\n",
              "      <th>FAF</th>\n",
              "      <th>TUE</th>\n",
              "      <th>CALC</th>\n",
              "      <th>MTRANS</th>\n",
              "      <th>NObeyesdad</th>\n",
              "    </tr>\n",
              "  </thead>\n",
              "  <tbody>\n",
              "    <tr>\n",
              "      <th>0</th>\n",
              "      <td>0</td>\n",
              "      <td>21.0</td>\n",
              "      <td>1.62</td>\n",
              "      <td>64.0</td>\n",
              "      <td>1</td>\n",
              "      <td>0</td>\n",
              "      <td>2.0</td>\n",
              "      <td>3.0</td>\n",
              "      <td>2</td>\n",
              "      <td>0</td>\n",
              "      <td>2.0</td>\n",
              "      <td>0</td>\n",
              "      <td>0.0</td>\n",
              "      <td>1.0</td>\n",
              "      <td>3</td>\n",
              "      <td>3</td>\n",
              "      <td>1</td>\n",
              "    </tr>\n",
              "    <tr>\n",
              "      <th>1</th>\n",
              "      <td>0</td>\n",
              "      <td>21.0</td>\n",
              "      <td>1.52</td>\n",
              "      <td>56.0</td>\n",
              "      <td>1</td>\n",
              "      <td>0</td>\n",
              "      <td>3.0</td>\n",
              "      <td>3.0</td>\n",
              "      <td>2</td>\n",
              "      <td>1</td>\n",
              "      <td>3.0</td>\n",
              "      <td>1</td>\n",
              "      <td>3.0</td>\n",
              "      <td>0.0</td>\n",
              "      <td>2</td>\n",
              "      <td>3</td>\n",
              "      <td>1</td>\n",
              "    </tr>\n",
              "    <tr>\n",
              "      <th>2</th>\n",
              "      <td>1</td>\n",
              "      <td>23.0</td>\n",
              "      <td>1.80</td>\n",
              "      <td>77.0</td>\n",
              "      <td>1</td>\n",
              "      <td>0</td>\n",
              "      <td>2.0</td>\n",
              "      <td>3.0</td>\n",
              "      <td>2</td>\n",
              "      <td>0</td>\n",
              "      <td>2.0</td>\n",
              "      <td>0</td>\n",
              "      <td>2.0</td>\n",
              "      <td>1.0</td>\n",
              "      <td>1</td>\n",
              "      <td>3</td>\n",
              "      <td>1</td>\n",
              "    </tr>\n",
              "    <tr>\n",
              "      <th>3</th>\n",
              "      <td>1</td>\n",
              "      <td>27.0</td>\n",
              "      <td>1.80</td>\n",
              "      <td>87.0</td>\n",
              "      <td>0</td>\n",
              "      <td>0</td>\n",
              "      <td>3.0</td>\n",
              "      <td>3.0</td>\n",
              "      <td>2</td>\n",
              "      <td>0</td>\n",
              "      <td>2.0</td>\n",
              "      <td>0</td>\n",
              "      <td>2.0</td>\n",
              "      <td>0.0</td>\n",
              "      <td>1</td>\n",
              "      <td>4</td>\n",
              "      <td>5</td>\n",
              "    </tr>\n",
              "    <tr>\n",
              "      <th>4</th>\n",
              "      <td>1</td>\n",
              "      <td>22.0</td>\n",
              "      <td>1.78</td>\n",
              "      <td>89.8</td>\n",
              "      <td>0</td>\n",
              "      <td>0</td>\n",
              "      <td>2.0</td>\n",
              "      <td>1.0</td>\n",
              "      <td>2</td>\n",
              "      <td>0</td>\n",
              "      <td>2.0</td>\n",
              "      <td>0</td>\n",
              "      <td>0.0</td>\n",
              "      <td>0.0</td>\n",
              "      <td>2</td>\n",
              "      <td>3</td>\n",
              "      <td>6</td>\n",
              "    </tr>\n",
              "  </tbody>\n",
              "</table>\n",
              "</div>\n",
              "      <button class=\"colab-df-convert\" onclick=\"convertToInteractive('df-9adffcb5-f2d7-45bf-83ee-95bf38968e8a')\"\n",
              "              title=\"Convert this dataframe to an interactive table.\"\n",
              "              style=\"display:none;\">\n",
              "        \n",
              "  <svg xmlns=\"http://www.w3.org/2000/svg\" height=\"24px\"viewBox=\"0 0 24 24\"\n",
              "       width=\"24px\">\n",
              "    <path d=\"M0 0h24v24H0V0z\" fill=\"none\"/>\n",
              "    <path d=\"M18.56 5.44l.94 2.06.94-2.06 2.06-.94-2.06-.94-.94-2.06-.94 2.06-2.06.94zm-11 1L8.5 8.5l.94-2.06 2.06-.94-2.06-.94L8.5 2.5l-.94 2.06-2.06.94zm10 10l.94 2.06.94-2.06 2.06-.94-2.06-.94-.94-2.06-.94 2.06-2.06.94z\"/><path d=\"M17.41 7.96l-1.37-1.37c-.4-.4-.92-.59-1.43-.59-.52 0-1.04.2-1.43.59L10.3 9.45l-7.72 7.72c-.78.78-.78 2.05 0 2.83L4 21.41c.39.39.9.59 1.41.59.51 0 1.02-.2 1.41-.59l7.78-7.78 2.81-2.81c.8-.78.8-2.07 0-2.86zM5.41 20L4 18.59l7.72-7.72 1.47 1.35L5.41 20z\"/>\n",
              "  </svg>\n",
              "      </button>\n",
              "      \n",
              "  <style>\n",
              "    .colab-df-container {\n",
              "      display:flex;\n",
              "      flex-wrap:wrap;\n",
              "      gap: 12px;\n",
              "    }\n",
              "\n",
              "    .colab-df-convert {\n",
              "      background-color: #E8F0FE;\n",
              "      border: none;\n",
              "      border-radius: 50%;\n",
              "      cursor: pointer;\n",
              "      display: none;\n",
              "      fill: #1967D2;\n",
              "      height: 32px;\n",
              "      padding: 0 0 0 0;\n",
              "      width: 32px;\n",
              "    }\n",
              "\n",
              "    .colab-df-convert:hover {\n",
              "      background-color: #E2EBFA;\n",
              "      box-shadow: 0px 1px 2px rgba(60, 64, 67, 0.3), 0px 1px 3px 1px rgba(60, 64, 67, 0.15);\n",
              "      fill: #174EA6;\n",
              "    }\n",
              "\n",
              "    [theme=dark] .colab-df-convert {\n",
              "      background-color: #3B4455;\n",
              "      fill: #D2E3FC;\n",
              "    }\n",
              "\n",
              "    [theme=dark] .colab-df-convert:hover {\n",
              "      background-color: #434B5C;\n",
              "      box-shadow: 0px 1px 3px 1px rgba(0, 0, 0, 0.15);\n",
              "      filter: drop-shadow(0px 1px 2px rgba(0, 0, 0, 0.3));\n",
              "      fill: #FFFFFF;\n",
              "    }\n",
              "  </style>\n",
              "\n",
              "      <script>\n",
              "        const buttonEl =\n",
              "          document.querySelector('#df-9adffcb5-f2d7-45bf-83ee-95bf38968e8a button.colab-df-convert');\n",
              "        buttonEl.style.display =\n",
              "          google.colab.kernel.accessAllowed ? 'block' : 'none';\n",
              "\n",
              "        async function convertToInteractive(key) {\n",
              "          const element = document.querySelector('#df-9adffcb5-f2d7-45bf-83ee-95bf38968e8a');\n",
              "          const dataTable =\n",
              "            await google.colab.kernel.invokeFunction('convertToInteractive',\n",
              "                                                     [key], {});\n",
              "          if (!dataTable) return;\n",
              "\n",
              "          const docLinkHtml = 'Like what you see? Visit the ' +\n",
              "            '<a target=\"_blank\" href=https://colab.research.google.com/notebooks/data_table.ipynb>data table notebook</a>'\n",
              "            + ' to learn more about interactive tables.';\n",
              "          element.innerHTML = '';\n",
              "          dataTable['output_type'] = 'display_data';\n",
              "          await google.colab.output.renderOutput(dataTable, element);\n",
              "          const docLink = document.createElement('div');\n",
              "          docLink.innerHTML = docLinkHtml;\n",
              "          element.appendChild(docLink);\n",
              "        }\n",
              "      </script>\n",
              "    </div>\n",
              "  </div>\n",
              "  "
            ]
          },
          "metadata": {},
          "execution_count": 10
        }
      ]
    },
    {
      "cell_type": "code",
      "source": [
        "#Cargamos los datos previamente guardados\n",
        "with open(\"numeric_columns.pkl\", \"rb\") as f:\n",
        "    numeric_columns = pickle.load(f)\n",
        "\n",
        "with open(\"categorical_columns.pkl\", \"rb\") as f:\n",
        "  categorical_columns = pickle.load(f)\n",
        "\n",
        "with open(\"dictionary_of_columns_with_index_to_categorical.pkl\", \"rb\") as f:\n",
        "  dictionary_of_columns_with_index_to_categorical = pickle.load(f)\n",
        "\n",
        "with open(\"dictionary_of_columns_with_categorical_to_index.pkl\", \"rb\") as f:\n",
        "  dictionary_of_columns_with_categorical_to_index = pickle.load(f)\n",
        "\n",
        "preprocessed_dataset = pd.read_pickle(\"preprocess_data.pkl\")"
      ],
      "metadata": {
        "id": "60a5s1t4IAH2"
      },
      "execution_count": 11,
      "outputs": []
    },
    {
      "cell_type": "code",
      "source": [
        "numeric_columns\n"
      ],
      "metadata": {
        "colab": {
          "base_uri": "https://localhost:8080/"
        },
        "id": "WNGU2hJFIQTT",
        "outputId": "421419b0-ef31-4653-dbd5-2647642adec3"
      },
      "execution_count": null,
      "outputs": [
        {
          "output_type": "execute_result",
          "data": {
            "text/plain": [
              "['Age', 'Height', 'Weight', 'FCVC', 'NCP', 'CH2O', 'FAF', 'TUE']"
            ]
          },
          "metadata": {},
          "execution_count": 41
        }
      ]
    },
    {
      "cell_type": "code",
      "source": [
        "categorical_columns"
      ],
      "metadata": {
        "colab": {
          "base_uri": "https://localhost:8080/"
        },
        "id": "guiiD02vIYJm",
        "outputId": "e7a300be-124f-4df1-8b2a-bcb7449f2ccc"
      },
      "execution_count": null,
      "outputs": [
        {
          "output_type": "execute_result",
          "data": {
            "text/plain": [
              "['Gender',\n",
              " 'family_history_with_overweight',\n",
              " 'FAVC',\n",
              " 'CAEC',\n",
              " 'SMOKE',\n",
              " 'SCC',\n",
              " 'CALC',\n",
              " 'MTRANS',\n",
              " 'NObeyesdad']"
            ]
          },
          "metadata": {},
          "execution_count": 43
        }
      ]
    },
    {
      "cell_type": "code",
      "source": [
        "dictionary_of_columns_with_index_to_categorical.keys()"
      ],
      "metadata": {
        "colab": {
          "base_uri": "https://localhost:8080/"
        },
        "id": "7PPRmJRBIe8S",
        "outputId": "7645cd88-a51c-4f45-a73a-f0642b7e8c85"
      },
      "execution_count": null,
      "outputs": [
        {
          "output_type": "execute_result",
          "data": {
            "text/plain": [
              "dict_keys(['Gender', 'family_history_with_overweight', 'FAVC', 'CAEC', 'SMOKE', 'SCC', 'CALC', 'MTRANS', 'NObeyesdad'])"
            ]
          },
          "metadata": {},
          "execution_count": 44
        }
      ]
    },
    {
      "cell_type": "code",
      "source": [
        "#Vemos los índices que tienen los valores (categorías) de la columna (variable) \"Embarked\" para verificar que los nulos no están indexados\n",
        "dictionary_of_columns_with_index_to_categorical[\"NObeyesdad\"]"
      ],
      "metadata": {
        "colab": {
          "base_uri": "https://localhost:8080/"
        },
        "id": "PUWhbIg-KExw",
        "outputId": "2ce233e0-06ce-4250-e20c-1aa3c4155c39"
      },
      "execution_count": null,
      "outputs": [
        {
          "output_type": "execute_result",
          "data": {
            "text/plain": [
              "{0: 'Insufficient_Weight',\n",
              " 1: 'Normal_Weight',\n",
              " 2: 'Obesity_Type_I',\n",
              " 3: 'Obesity_Type_II',\n",
              " 4: 'Obesity_Type_III',\n",
              " 5: 'Overweight_Level_I',\n",
              " 6: 'Overweight_Level_II'}"
            ]
          },
          "metadata": {},
          "execution_count": 46
        }
      ]
    },
    {
      "cell_type": "code",
      "source": [
        "width = 20\n",
        "height = 5\n",
        "\n",
        "plt.style.use(\"default\")\n",
        "\n",
        "figure, axes = plt.subplots(nrows=2, ncols=9, figsize=(width, height))\n",
        "\n",
        "for column, axe in zip(preprocess_data, axes.flatten()):\n",
        "    sns.distplot(preprocess_data[column], ax=axe)\n",
        "    \n",
        "plt.tight_layout()"
      ],
      "metadata": {
        "id": "lPnD9CMBKD1U"
      },
      "execution_count": null,
      "outputs": []
    },
    {
      "cell_type": "code",
      "source": [
        "from sklearn.model_selection import train_test_split\n",
        "X = preprocess_data.drop(\"Height\",axis=1)\n",
        "X = preprocess_data.drop(\"Weight\",axis=1)\n",
        "X = preprocess_data.drop(\"NObeyesdad\",axis=1)\n",
        "y = pd.DataFrame(preprocess_data[\"NObeyesdad\"])\n",
        "\n",
        "X_train, X_test, y_train, y_test = train_test_split(X, y,test_size=0.2,random_state=21)\n",
        "X_train.head()\n",
        "y_test.head()"
      ],
      "metadata": {
        "colab": {
          "base_uri": "https://localhost:8080/",
          "height": 206
        },
        "id": "Zu5sSo8qWC-j",
        "outputId": "caa0b455-19e4-49d4-9e45-e6c619238d18"
      },
      "execution_count": 17,
      "outputs": [
        {
          "output_type": "execute_result",
          "data": {
            "text/plain": [
              "      NObeyesdad\n",
              "1150           6\n",
              "1819           4\n",
              "919            5\n",
              "1217           2\n",
              "299            5"
            ],
            "text/html": [
              "\n",
              "  <div id=\"df-0c4cbe34-d8fd-47db-a081-8148ab9594a1\">\n",
              "    <div class=\"colab-df-container\">\n",
              "      <div>\n",
              "<style scoped>\n",
              "    .dataframe tbody tr th:only-of-type {\n",
              "        vertical-align: middle;\n",
              "    }\n",
              "\n",
              "    .dataframe tbody tr th {\n",
              "        vertical-align: top;\n",
              "    }\n",
              "\n",
              "    .dataframe thead th {\n",
              "        text-align: right;\n",
              "    }\n",
              "</style>\n",
              "<table border=\"1\" class=\"dataframe\">\n",
              "  <thead>\n",
              "    <tr style=\"text-align: right;\">\n",
              "      <th></th>\n",
              "      <th>NObeyesdad</th>\n",
              "    </tr>\n",
              "  </thead>\n",
              "  <tbody>\n",
              "    <tr>\n",
              "      <th>1150</th>\n",
              "      <td>6</td>\n",
              "    </tr>\n",
              "    <tr>\n",
              "      <th>1819</th>\n",
              "      <td>4</td>\n",
              "    </tr>\n",
              "    <tr>\n",
              "      <th>919</th>\n",
              "      <td>5</td>\n",
              "    </tr>\n",
              "    <tr>\n",
              "      <th>1217</th>\n",
              "      <td>2</td>\n",
              "    </tr>\n",
              "    <tr>\n",
              "      <th>299</th>\n",
              "      <td>5</td>\n",
              "    </tr>\n",
              "  </tbody>\n",
              "</table>\n",
              "</div>\n",
              "      <button class=\"colab-df-convert\" onclick=\"convertToInteractive('df-0c4cbe34-d8fd-47db-a081-8148ab9594a1')\"\n",
              "              title=\"Convert this dataframe to an interactive table.\"\n",
              "              style=\"display:none;\">\n",
              "        \n",
              "  <svg xmlns=\"http://www.w3.org/2000/svg\" height=\"24px\"viewBox=\"0 0 24 24\"\n",
              "       width=\"24px\">\n",
              "    <path d=\"M0 0h24v24H0V0z\" fill=\"none\"/>\n",
              "    <path d=\"M18.56 5.44l.94 2.06.94-2.06 2.06-.94-2.06-.94-.94-2.06-.94 2.06-2.06.94zm-11 1L8.5 8.5l.94-2.06 2.06-.94-2.06-.94L8.5 2.5l-.94 2.06-2.06.94zm10 10l.94 2.06.94-2.06 2.06-.94-2.06-.94-.94-2.06-.94 2.06-2.06.94z\"/><path d=\"M17.41 7.96l-1.37-1.37c-.4-.4-.92-.59-1.43-.59-.52 0-1.04.2-1.43.59L10.3 9.45l-7.72 7.72c-.78.78-.78 2.05 0 2.83L4 21.41c.39.39.9.59 1.41.59.51 0 1.02-.2 1.41-.59l7.78-7.78 2.81-2.81c.8-.78.8-2.07 0-2.86zM5.41 20L4 18.59l7.72-7.72 1.47 1.35L5.41 20z\"/>\n",
              "  </svg>\n",
              "      </button>\n",
              "      \n",
              "  <style>\n",
              "    .colab-df-container {\n",
              "      display:flex;\n",
              "      flex-wrap:wrap;\n",
              "      gap: 12px;\n",
              "    }\n",
              "\n",
              "    .colab-df-convert {\n",
              "      background-color: #E8F0FE;\n",
              "      border: none;\n",
              "      border-radius: 50%;\n",
              "      cursor: pointer;\n",
              "      display: none;\n",
              "      fill: #1967D2;\n",
              "      height: 32px;\n",
              "      padding: 0 0 0 0;\n",
              "      width: 32px;\n",
              "    }\n",
              "\n",
              "    .colab-df-convert:hover {\n",
              "      background-color: #E2EBFA;\n",
              "      box-shadow: 0px 1px 2px rgba(60, 64, 67, 0.3), 0px 1px 3px 1px rgba(60, 64, 67, 0.15);\n",
              "      fill: #174EA6;\n",
              "    }\n",
              "\n",
              "    [theme=dark] .colab-df-convert {\n",
              "      background-color: #3B4455;\n",
              "      fill: #D2E3FC;\n",
              "    }\n",
              "\n",
              "    [theme=dark] .colab-df-convert:hover {\n",
              "      background-color: #434B5C;\n",
              "      box-shadow: 0px 1px 3px 1px rgba(0, 0, 0, 0.15);\n",
              "      filter: drop-shadow(0px 1px 2px rgba(0, 0, 0, 0.3));\n",
              "      fill: #FFFFFF;\n",
              "    }\n",
              "  </style>\n",
              "\n",
              "      <script>\n",
              "        const buttonEl =\n",
              "          document.querySelector('#df-0c4cbe34-d8fd-47db-a081-8148ab9594a1 button.colab-df-convert');\n",
              "        buttonEl.style.display =\n",
              "          google.colab.kernel.accessAllowed ? 'block' : 'none';\n",
              "\n",
              "        async function convertToInteractive(key) {\n",
              "          const element = document.querySelector('#df-0c4cbe34-d8fd-47db-a081-8148ab9594a1');\n",
              "          const dataTable =\n",
              "            await google.colab.kernel.invokeFunction('convertToInteractive',\n",
              "                                                     [key], {});\n",
              "          if (!dataTable) return;\n",
              "\n",
              "          const docLinkHtml = 'Like what you see? Visit the ' +\n",
              "            '<a target=\"_blank\" href=https://colab.research.google.com/notebooks/data_table.ipynb>data table notebook</a>'\n",
              "            + ' to learn more about interactive tables.';\n",
              "          element.innerHTML = '';\n",
              "          dataTable['output_type'] = 'display_data';\n",
              "          await google.colab.output.renderOutput(dataTable, element);\n",
              "          const docLink = document.createElement('div');\n",
              "          docLink.innerHTML = docLinkHtml;\n",
              "          element.appendChild(docLink);\n",
              "        }\n",
              "      </script>\n",
              "    </div>\n",
              "  </div>\n",
              "  "
            ]
          },
          "metadata": {},
          "execution_count": 17
        }
      ]
    },
    {
      "cell_type": "markdown",
      "source": [
        ""
      ],
      "metadata": {
        "id": "YVCOPywDL5iy"
      }
    },
    {
      "cell_type": "code",
      "source": [
        "from sklearn.preprocessing import StandardScaler\n",
        "sc_X = StandardScaler()\n",
        "x_train_scaled = sc_X.fit_transform(X_train)"
      ],
      "metadata": {
        "id": "J5GCaR_YU26R"
      },
      "execution_count": 18,
      "outputs": []
    },
    {
      "cell_type": "code",
      "source": [
        "# encode class values as integers\n",
        "from keras.utils import np_utils\n",
        "dummy_y = np_utils.to_categorical(y_train)\n",
        "dummy_y"
      ],
      "metadata": {
        "colab": {
          "base_uri": "https://localhost:8080/"
        },
        "id": "nzQujD6BdaGE",
        "outputId": "e635f560-03ae-467b-d570-246f40f6b02e"
      },
      "execution_count": 38,
      "outputs": [
        {
          "output_type": "execute_result",
          "data": {
            "text/plain": [
              "array([[0., 0., 0., ..., 0., 0., 0.],\n",
              "       [1., 0., 0., ..., 0., 0., 0.],\n",
              "       [0., 0., 0., ..., 0., 0., 0.],\n",
              "       ...,\n",
              "       [0., 0., 0., ..., 0., 1., 0.],\n",
              "       [0., 0., 0., ..., 1., 0., 0.],\n",
              "       [0., 0., 1., ..., 0., 0., 0.]], dtype=float32)"
            ]
          },
          "metadata": {},
          "execution_count": 38
        }
      ]
    },
    {
      "cell_type": "code",
      "source": [
        "p = 0.001\n",
        "# Inicializar la RNA\n",
        "classifier = Sequential()\n",
        "\n",
        "# Añadir las capas de entrada y primera capa oculta\n",
        "classifier.add(Dense(units = 20, kernel_initializer = \"uniform\",  \n",
        "                     activation = \"sigmoid\", input_dim = 16))\n",
        "classifier.add(Dropout(p))\n",
        "\n",
        "# Añadir la segunda capa oculta\n",
        "classifier.add(Dense(units = 15, kernel_initializer = \"uniform\",  activation = \"sigmoid\"))\n",
        "classifier.add(Dropout(p))\n",
        "# Añadir la segunda capa oculta\n",
        "classifier.add(Dense(units = 10, kernel_initializer = \"uniform\",  activation = \"sigmoid\"))\n",
        "classifier.add(Dropout(p))\n",
        "\n",
        "# Añadir la capa de salida\n",
        "classifier.add(Dense(units = 7, kernel_initializer = \"uniform\",  activation = \"softmax\"))\n",
        "\n",
        "# Compilar la RNA\n",
        "classifier.compile(optimizer = \"adam\", loss = \"categorical_crossentropy\", metrics = [\"accuracy\"])\n"
      ],
      "metadata": {
        "id": "nx9qXx3uXe8V"
      },
      "execution_count": 71,
      "outputs": []
    },
    {
      "cell_type": "code",
      "source": [
        "# Ajustamos la RNA al Conjunto de Entrenamiento\n",
        "log = classifier.fit(x_train_scaled, dummy_y,  batch_size = 15, epochs = 200)"
      ],
      "metadata": {
        "id": "VrLXP9fwYREe"
      },
      "execution_count": null,
      "outputs": []
    },
    {
      "cell_type": "code",
      "source": [
        "plt.plot(log.history['accuracy'], label='train')\n",
        "plt.legend();\n",
        "plt.plot(log.history['loss'], label='train')\n",
        "plt.legend();"
      ],
      "metadata": {
        "id": "PsDadUcGixvk"
      },
      "execution_count": null,
      "outputs": []
    },
    {
      "cell_type": "code",
      "source": [
        "#calcualmos datos test \n",
        "sc_X = StandardScaler()\n",
        "x_test_scaled = sc_X.fit_transform(X_test)\n",
        "y_pred  = classifier.predict(x_test_scaled)\n",
        "\n",
        "#y_test, y_pred\n",
        "y_test_dummy = np_utils.to_categorical(y_test)\n",
        "y_pred_dummy = np.vectorize(lambda x: int(x >= 0.5))(y_pred)\n",
        "y_test_dummy"
      ],
      "metadata": {
        "colab": {
          "base_uri": "https://localhost:8080/"
        },
        "id": "WvHoBpiVgu_r",
        "outputId": "867f312c-a236-4ebf-b505-a2d84311f9e6"
      },
      "execution_count": 94,
      "outputs": [
        {
          "output_type": "execute_result",
          "data": {
            "text/plain": [
              "array([[0., 0., 0., ..., 0., 0., 1.],\n",
              "       [0., 0., 0., ..., 1., 0., 0.],\n",
              "       [0., 0., 0., ..., 0., 1., 0.],\n",
              "       ...,\n",
              "       [0., 0., 0., ..., 0., 0., 1.],\n",
              "       [1., 0., 0., ..., 0., 0., 0.],\n",
              "       [0., 0., 0., ..., 0., 0., 0.]], dtype=float32)"
            ]
          },
          "metadata": {},
          "execution_count": 94
        }
      ]
    },
    {
      "cell_type": "code",
      "source": [
        "# calculate accuracy\n",
        "y_pred_dummy.argmax(axis=1)\n",
        "y_test_dummy.argmax(axis=1)"
      ],
      "metadata": {
        "colab": {
          "base_uri": "https://localhost:8080/"
        },
        "id": "S9tVb9M-gslW",
        "outputId": "6d9e3f54-ff89-4281-f6f3-ca20e0d2a646"
      },
      "execution_count": 110,
      "outputs": [
        {
          "output_type": "execute_result",
          "data": {
            "text/plain": [
              "array([6, 4, 5, 2, 5, 2, 5, 1, 5, 1, 5, 0, 3, 0, 6, 2, 3, 4, 5, 5, 0, 1,\n",
              "       5, 0, 6, 2, 4, 0, 0, 3, 1, 3, 3, 1, 0, 4, 2, 5, 5, 1, 6, 0, 0, 2,\n",
              "       3, 4, 4, 4, 6, 0, 6, 5, 1, 6, 2, 0, 5, 6, 4, 1, 1, 4, 6, 5, 2, 1,\n",
              "       0, 6, 0, 6, 6, 1, 2, 1, 4, 6, 3, 3, 5, 6, 5, 4, 5, 6, 0, 4, 4, 5,\n",
              "       6, 1, 5, 3, 6, 1, 6, 2, 3, 1, 5, 6, 6, 4, 4, 2, 1, 4, 6, 0, 3, 0,\n",
              "       2, 2, 3, 2, 3, 1, 5, 6, 6, 5, 4, 3, 3, 5, 3, 0, 2, 6, 0, 3, 4, 5,\n",
              "       4, 5, 1, 6, 5, 2, 4, 1, 6, 1, 5, 5, 0, 0, 0, 4, 5, 4, 1, 1, 5, 4,\n",
              "       3, 4, 6, 6, 4, 5, 4, 4, 1, 0, 3, 2, 1, 0, 1, 0, 1, 0, 3, 2, 6, 5,\n",
              "       3, 6, 2, 4, 0, 5, 4, 4, 0, 1, 6, 1, 6, 3, 4, 6, 5, 5, 6, 6, 4, 1,\n",
              "       5, 6, 3, 2, 2, 4, 1, 3, 2, 5, 0, 5, 0, 5, 4, 1, 2, 1, 2, 5, 1, 4,\n",
              "       1, 5, 4, 3, 2, 2, 4, 4, 3, 1, 1, 6, 5, 2, 2, 5, 6, 6, 4, 1, 6, 0,\n",
              "       0, 0, 2, 4, 0, 5, 4, 3, 4, 2, 3, 0, 3, 0, 2, 6, 2, 3, 5, 0, 2, 4,\n",
              "       6, 6, 6, 1, 2, 0, 4, 6, 4, 5, 4, 3, 3, 0, 4, 3, 1, 4, 4, 3, 6, 4,\n",
              "       4, 3, 6, 5, 0, 2, 0, 4, 3, 3, 3, 6, 0, 2, 6, 2, 3, 3, 3, 4, 5, 6,\n",
              "       1, 2, 3, 6, 4, 0, 3, 0, 6, 2, 0, 6, 1, 2, 6, 2, 2, 2, 4, 0, 1, 2,\n",
              "       3, 5, 3, 4, 5, 2, 5, 5, 0, 3, 0, 6, 1, 1, 6, 1, 0, 5, 2, 1, 4, 2,\n",
              "       1, 4, 3, 4, 4, 5, 5, 6, 0, 4, 4, 4, 2, 1, 4, 1, 2, 1, 3, 5, 4, 5,\n",
              "       2, 1, 6, 5, 4, 3, 3, 3, 4, 4, 0, 5, 4, 5, 5, 0, 2, 4, 4, 4, 2, 6,\n",
              "       2, 4, 6, 5, 1, 4, 6, 6, 3, 3, 0, 1, 4, 2, 0, 0, 1, 5, 3, 6, 0, 3])"
            ]
          },
          "metadata": {},
          "execution_count": 110
        }
      ]
    },
    {
      "cell_type": "code",
      "source": [
        "from sklearn.metrics import confusion_matrix\n",
        "from sklearn import metrics\n",
        "cm = confusion_matrix(y_test_dummy.argmax(axis=1), y_pred_dummy.argmax(axis=1))\n",
        "recall = np.diag(cm) / np.sum(cm, axis = 1)\n",
        "precision = np.diag(cm) / np.sum(cm, axis = 0)\n",
        "print('Model Performance')\n",
        "print('Accuracy = {:0.4f}%.'.format(metrics.accuracy_score(y_test_dummy, y_pred_dummy)))\n",
        "print('Recall = {:0.4f}%.'.format(np.mean(recall)))\n",
        "print('Precision = {:0.4f}%.'.format(np.mean(precision)))\n",
        "print('Matrix confussion')\n",
        "cm"
      ],
      "metadata": {
        "colab": {
          "base_uri": "https://localhost:8080/"
        },
        "id": "IVTweSyUlpnC",
        "outputId": "b6fbe7d9-62fb-4668-e295-c416a3e3c5ff"
      },
      "execution_count": 115,
      "outputs": [
        {
          "output_type": "stream",
          "name": "stdout",
          "text": [
            "Model Performance\n",
            "Accuracy = 0.9569%.\n",
            "Recall = 0.9554%.\n",
            "Precision = 0.9562%.\n",
            "Matrix confussion\n"
          ]
        },
        {
          "output_type": "execute_result",
          "data": {
            "text/plain": [
              "array([[55,  0,  0,  0,  0,  0,  0],\n",
              "       [ 4, 48,  0,  0,  0,  2,  0],\n",
              "       [ 0,  0, 52,  0,  0,  0,  2],\n",
              "       [ 0,  0,  2, 53,  0,  0,  0],\n",
              "       [ 0,  0,  0,  0, 75,  0,  0],\n",
              "       [ 0,  2,  0,  0,  0, 59,  1],\n",
              "       [ 0,  0,  2,  0,  0,  3, 58]])"
            ]
          },
          "metadata": {},
          "execution_count": 115
        }
      ]
    },
    {
      "cell_type": "code",
      "source": [
        "from sklearn.metrics import roc_curve\n",
        "def plot_roc_curve(fper, tper):\n",
        "    plt.plot(fper, tper, color='red', label='ROC')\n",
        "    plt.plot([0, 1], [0, 1], color='green', linestyle='--')\n",
        "    plt.xlabel('False Positive Rate')\n",
        "    plt.ylabel('True Positive Rate')\n",
        "    plt.title('Receiver Operating Characteristic Curve')\n",
        "    plt.legend()\n",
        "    plt.show()\n",
        "\n",
        "\n",
        "fper, tper, thresholds = roc_curve(y_test_dummy.argmax(axis=1), y_pred_dummy.argmax(axis=1), pos_label='1')\n",
        "plot_roc_curve(fper, tper)"
      ],
      "metadata": {
        "id": "JbYmbsMkxGAX"
      },
      "execution_count": null,
      "outputs": []
    }
  ]
}